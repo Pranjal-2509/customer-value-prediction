{
 "cells": [
  {
   "cell_type": "markdown",
   "id": "92f9ac46-8378-4032-b5df-aba14b721a9b",
   "metadata": {},
   "source": [
    "# Importing necessary libraries"
   ]
  },
  {
   "cell_type": "code",
   "execution_count": 1,
   "id": "68df948f-e7b0-4617-a7b1-297641808e6d",
   "metadata": {},
   "outputs": [],
   "source": [
    "import numpy as np\n",
    "import pandas as pd\n",
    "import matplotlib.pyplot as plt\n",
    "import seaborn as sns"
   ]
  },
  {
   "cell_type": "markdown",
   "id": "d2b92903-26f6-432b-a5d7-9f06b3dcb192",
   "metadata": {},
   "source": [
    "# Loading the Dataset"
   ]
  },
  {
   "cell_type": "code",
   "execution_count": 2,
   "id": "c7e81ee8-6382-4cca-9939-f0c275990c82",
   "metadata": {
    "scrolled": true
   },
   "outputs": [
    {
     "data": {
      "text/plain": [
       "525461"
      ]
     },
     "execution_count": 2,
     "metadata": {},
     "output_type": "execute_result"
    }
   ],
   "source": [
    "df1 = pd.read_excel(\"online_retail_II.xlsx\", sheet_name=\"Year 2009-2010\")\n",
    "len(df1)"
   ]
  },
  {
   "cell_type": "code",
   "execution_count": 3,
   "id": "a3f8a686-b9f5-4f08-834e-7dad765764e9",
   "metadata": {},
   "outputs": [
    {
     "data": {
      "text/plain": [
       "541910"
      ]
     },
     "execution_count": 3,
     "metadata": {},
     "output_type": "execute_result"
    }
   ],
   "source": [
    "df2 = pd.read_excel(\"online_retail_II.xlsx\", sheet_name=\"Year 2010-2011\")\n",
    "len(df2)"
   ]
  },
  {
   "cell_type": "markdown",
   "id": "c7a6154c-07fd-4f04-92d2-2cc04003ad8a",
   "metadata": {},
   "source": [
    "## Merging the two sheets"
   ]
  },
  {
   "cell_type": "code",
   "execution_count": 4,
   "id": "2a45eb8f-3a48-415b-a59d-a3e2775efcdb",
   "metadata": {},
   "outputs": [
    {
     "data": {
      "text/html": [
       "<div>\n",
       "<style scoped>\n",
       "    .dataframe tbody tr th:only-of-type {\n",
       "        vertical-align: middle;\n",
       "    }\n",
       "\n",
       "    .dataframe tbody tr th {\n",
       "        vertical-align: top;\n",
       "    }\n",
       "\n",
       "    .dataframe thead th {\n",
       "        text-align: right;\n",
       "    }\n",
       "</style>\n",
       "<table border=\"1\" class=\"dataframe\">\n",
       "  <thead>\n",
       "    <tr style=\"text-align: right;\">\n",
       "      <th></th>\n",
       "      <th>Invoice</th>\n",
       "      <th>StockCode</th>\n",
       "      <th>Description</th>\n",
       "      <th>Quantity</th>\n",
       "      <th>InvoiceDate</th>\n",
       "      <th>Price</th>\n",
       "      <th>Customer ID</th>\n",
       "      <th>Country</th>\n",
       "    </tr>\n",
       "  </thead>\n",
       "  <tbody>\n",
       "    <tr>\n",
       "      <th>0</th>\n",
       "      <td>489434</td>\n",
       "      <td>85048</td>\n",
       "      <td>15CM CHRISTMAS GLASS BALL 20 LIGHTS</td>\n",
       "      <td>12</td>\n",
       "      <td>2009-12-01 07:45:00</td>\n",
       "      <td>6.95</td>\n",
       "      <td>13085.0</td>\n",
       "      <td>United Kingdom</td>\n",
       "    </tr>\n",
       "    <tr>\n",
       "      <th>1</th>\n",
       "      <td>489434</td>\n",
       "      <td>79323P</td>\n",
       "      <td>PINK CHERRY LIGHTS</td>\n",
       "      <td>12</td>\n",
       "      <td>2009-12-01 07:45:00</td>\n",
       "      <td>6.75</td>\n",
       "      <td>13085.0</td>\n",
       "      <td>United Kingdom</td>\n",
       "    </tr>\n",
       "    <tr>\n",
       "      <th>2</th>\n",
       "      <td>489434</td>\n",
       "      <td>79323W</td>\n",
       "      <td>WHITE CHERRY LIGHTS</td>\n",
       "      <td>12</td>\n",
       "      <td>2009-12-01 07:45:00</td>\n",
       "      <td>6.75</td>\n",
       "      <td>13085.0</td>\n",
       "      <td>United Kingdom</td>\n",
       "    </tr>\n",
       "    <tr>\n",
       "      <th>3</th>\n",
       "      <td>489434</td>\n",
       "      <td>22041</td>\n",
       "      <td>RECORD FRAME 7\" SINGLE SIZE</td>\n",
       "      <td>48</td>\n",
       "      <td>2009-12-01 07:45:00</td>\n",
       "      <td>2.10</td>\n",
       "      <td>13085.0</td>\n",
       "      <td>United Kingdom</td>\n",
       "    </tr>\n",
       "    <tr>\n",
       "      <th>4</th>\n",
       "      <td>489434</td>\n",
       "      <td>21232</td>\n",
       "      <td>STRAWBERRY CERAMIC TRINKET BOX</td>\n",
       "      <td>24</td>\n",
       "      <td>2009-12-01 07:45:00</td>\n",
       "      <td>1.25</td>\n",
       "      <td>13085.0</td>\n",
       "      <td>United Kingdom</td>\n",
       "    </tr>\n",
       "    <tr>\n",
       "      <th>...</th>\n",
       "      <td>...</td>\n",
       "      <td>...</td>\n",
       "      <td>...</td>\n",
       "      <td>...</td>\n",
       "      <td>...</td>\n",
       "      <td>...</td>\n",
       "      <td>...</td>\n",
       "      <td>...</td>\n",
       "    </tr>\n",
       "    <tr>\n",
       "      <th>1067366</th>\n",
       "      <td>581587</td>\n",
       "      <td>22899</td>\n",
       "      <td>CHILDREN'S APRON DOLLY GIRL</td>\n",
       "      <td>6</td>\n",
       "      <td>2011-12-09 12:50:00</td>\n",
       "      <td>2.10</td>\n",
       "      <td>12680.0</td>\n",
       "      <td>France</td>\n",
       "    </tr>\n",
       "    <tr>\n",
       "      <th>1067367</th>\n",
       "      <td>581587</td>\n",
       "      <td>23254</td>\n",
       "      <td>CHILDRENS CUTLERY DOLLY GIRL</td>\n",
       "      <td>4</td>\n",
       "      <td>2011-12-09 12:50:00</td>\n",
       "      <td>4.15</td>\n",
       "      <td>12680.0</td>\n",
       "      <td>France</td>\n",
       "    </tr>\n",
       "    <tr>\n",
       "      <th>1067368</th>\n",
       "      <td>581587</td>\n",
       "      <td>23255</td>\n",
       "      <td>CHILDRENS CUTLERY CIRCUS PARADE</td>\n",
       "      <td>4</td>\n",
       "      <td>2011-12-09 12:50:00</td>\n",
       "      <td>4.15</td>\n",
       "      <td>12680.0</td>\n",
       "      <td>France</td>\n",
       "    </tr>\n",
       "    <tr>\n",
       "      <th>1067369</th>\n",
       "      <td>581587</td>\n",
       "      <td>22138</td>\n",
       "      <td>BAKING SET 9 PIECE RETROSPOT</td>\n",
       "      <td>3</td>\n",
       "      <td>2011-12-09 12:50:00</td>\n",
       "      <td>4.95</td>\n",
       "      <td>12680.0</td>\n",
       "      <td>France</td>\n",
       "    </tr>\n",
       "    <tr>\n",
       "      <th>1067370</th>\n",
       "      <td>581587</td>\n",
       "      <td>POST</td>\n",
       "      <td>POSTAGE</td>\n",
       "      <td>1</td>\n",
       "      <td>2011-12-09 12:50:00</td>\n",
       "      <td>18.00</td>\n",
       "      <td>12680.0</td>\n",
       "      <td>France</td>\n",
       "    </tr>\n",
       "  </tbody>\n",
       "</table>\n",
       "<p>1067371 rows × 8 columns</p>\n",
       "</div>"
      ],
      "text/plain": [
       "        Invoice StockCode                          Description  Quantity  \\\n",
       "0        489434     85048  15CM CHRISTMAS GLASS BALL 20 LIGHTS        12   \n",
       "1        489434    79323P                   PINK CHERRY LIGHTS        12   \n",
       "2        489434    79323W                  WHITE CHERRY LIGHTS        12   \n",
       "3        489434     22041         RECORD FRAME 7\" SINGLE SIZE         48   \n",
       "4        489434     21232       STRAWBERRY CERAMIC TRINKET BOX        24   \n",
       "...         ...       ...                                  ...       ...   \n",
       "1067366  581587     22899         CHILDREN'S APRON DOLLY GIRL          6   \n",
       "1067367  581587     23254        CHILDRENS CUTLERY DOLLY GIRL          4   \n",
       "1067368  581587     23255      CHILDRENS CUTLERY CIRCUS PARADE         4   \n",
       "1067369  581587     22138        BAKING SET 9 PIECE RETROSPOT          3   \n",
       "1067370  581587      POST                              POSTAGE         1   \n",
       "\n",
       "                InvoiceDate  Price  Customer ID         Country  \n",
       "0       2009-12-01 07:45:00   6.95      13085.0  United Kingdom  \n",
       "1       2009-12-01 07:45:00   6.75      13085.0  United Kingdom  \n",
       "2       2009-12-01 07:45:00   6.75      13085.0  United Kingdom  \n",
       "3       2009-12-01 07:45:00   2.10      13085.0  United Kingdom  \n",
       "4       2009-12-01 07:45:00   1.25      13085.0  United Kingdom  \n",
       "...                     ...    ...          ...             ...  \n",
       "1067366 2011-12-09 12:50:00   2.10      12680.0          France  \n",
       "1067367 2011-12-09 12:50:00   4.15      12680.0          France  \n",
       "1067368 2011-12-09 12:50:00   4.15      12680.0          France  \n",
       "1067369 2011-12-09 12:50:00   4.95      12680.0          France  \n",
       "1067370 2011-12-09 12:50:00  18.00      12680.0          France  \n",
       "\n",
       "[1067371 rows x 8 columns]"
      ]
     },
     "execution_count": 4,
     "metadata": {},
     "output_type": "execute_result"
    }
   ],
   "source": [
    "data = pd.concat([df1, df2], ignore_index=True)\n",
    "data"
   ]
  },
  {
   "cell_type": "code",
   "execution_count": 5,
   "id": "3b06ce0b-d66c-49ac-a4bb-2d12c14c71b7",
   "metadata": {},
   "outputs": [
    {
     "data": {
      "text/plain": [
       "Index(['Invoice', 'StockCode', 'Description', 'Quantity', 'InvoiceDate',\n",
       "       'Price', 'Customer ID', 'Country'],\n",
       "      dtype='object')"
      ]
     },
     "execution_count": 5,
     "metadata": {},
     "output_type": "execute_result"
    }
   ],
   "source": [
    "data.columns"
   ]
  },
  {
   "cell_type": "code",
   "execution_count": 6,
   "id": "bc59c09a-5150-4a3f-a6dc-793056baad25",
   "metadata": {},
   "outputs": [
    {
     "data": {
      "text/html": [
       "<div>\n",
       "<style scoped>\n",
       "    .dataframe tbody tr th:only-of-type {\n",
       "        vertical-align: middle;\n",
       "    }\n",
       "\n",
       "    .dataframe tbody tr th {\n",
       "        vertical-align: top;\n",
       "    }\n",
       "\n",
       "    .dataframe thead th {\n",
       "        text-align: right;\n",
       "    }\n",
       "</style>\n",
       "<table border=\"1\" class=\"dataframe\">\n",
       "  <thead>\n",
       "    <tr style=\"text-align: right;\">\n",
       "      <th></th>\n",
       "      <th>Quantity</th>\n",
       "      <th>InvoiceDate</th>\n",
       "      <th>Price</th>\n",
       "      <th>Customer ID</th>\n",
       "    </tr>\n",
       "  </thead>\n",
       "  <tbody>\n",
       "    <tr>\n",
       "      <th>count</th>\n",
       "      <td>1.067371e+06</td>\n",
       "      <td>1067371</td>\n",
       "      <td>1.067371e+06</td>\n",
       "      <td>824364.000000</td>\n",
       "    </tr>\n",
       "    <tr>\n",
       "      <th>mean</th>\n",
       "      <td>9.938898e+00</td>\n",
       "      <td>2011-01-02 21:13:55.394028544</td>\n",
       "      <td>4.649388e+00</td>\n",
       "      <td>15324.638504</td>\n",
       "    </tr>\n",
       "    <tr>\n",
       "      <th>min</th>\n",
       "      <td>-8.099500e+04</td>\n",
       "      <td>2009-12-01 07:45:00</td>\n",
       "      <td>-5.359436e+04</td>\n",
       "      <td>12346.000000</td>\n",
       "    </tr>\n",
       "    <tr>\n",
       "      <th>25%</th>\n",
       "      <td>1.000000e+00</td>\n",
       "      <td>2010-07-09 09:46:00</td>\n",
       "      <td>1.250000e+00</td>\n",
       "      <td>13975.000000</td>\n",
       "    </tr>\n",
       "    <tr>\n",
       "      <th>50%</th>\n",
       "      <td>3.000000e+00</td>\n",
       "      <td>2010-12-07 15:28:00</td>\n",
       "      <td>2.100000e+00</td>\n",
       "      <td>15255.000000</td>\n",
       "    </tr>\n",
       "    <tr>\n",
       "      <th>75%</th>\n",
       "      <td>1.000000e+01</td>\n",
       "      <td>2011-07-22 10:23:00</td>\n",
       "      <td>4.150000e+00</td>\n",
       "      <td>16797.000000</td>\n",
       "    </tr>\n",
       "    <tr>\n",
       "      <th>max</th>\n",
       "      <td>8.099500e+04</td>\n",
       "      <td>2011-12-09 12:50:00</td>\n",
       "      <td>3.897000e+04</td>\n",
       "      <td>18287.000000</td>\n",
       "    </tr>\n",
       "    <tr>\n",
       "      <th>std</th>\n",
       "      <td>1.727058e+02</td>\n",
       "      <td>NaN</td>\n",
       "      <td>1.235531e+02</td>\n",
       "      <td>1697.464450</td>\n",
       "    </tr>\n",
       "  </tbody>\n",
       "</table>\n",
       "</div>"
      ],
      "text/plain": [
       "           Quantity                    InvoiceDate         Price  \\\n",
       "count  1.067371e+06                        1067371  1.067371e+06   \n",
       "mean   9.938898e+00  2011-01-02 21:13:55.394028544  4.649388e+00   \n",
       "min   -8.099500e+04            2009-12-01 07:45:00 -5.359436e+04   \n",
       "25%    1.000000e+00            2010-07-09 09:46:00  1.250000e+00   \n",
       "50%    3.000000e+00            2010-12-07 15:28:00  2.100000e+00   \n",
       "75%    1.000000e+01            2011-07-22 10:23:00  4.150000e+00   \n",
       "max    8.099500e+04            2011-12-09 12:50:00  3.897000e+04   \n",
       "std    1.727058e+02                            NaN  1.235531e+02   \n",
       "\n",
       "         Customer ID  \n",
       "count  824364.000000  \n",
       "mean    15324.638504  \n",
       "min     12346.000000  \n",
       "25%     13975.000000  \n",
       "50%     15255.000000  \n",
       "75%     16797.000000  \n",
       "max     18287.000000  \n",
       "std      1697.464450  "
      ]
     },
     "execution_count": 6,
     "metadata": {},
     "output_type": "execute_result"
    }
   ],
   "source": [
    "data.describe()"
   ]
  },
  {
   "cell_type": "markdown",
   "id": "f8c8d6fa-d7a1-487a-8ccb-f6533aaea045",
   "metadata": {},
   "source": [
    "## Removing rows with null values"
   ]
  },
  {
   "cell_type": "code",
   "execution_count": 7,
   "id": "3d4cd111-0f9c-470d-b5a3-0ae22d281ff1",
   "metadata": {},
   "outputs": [
    {
     "data": {
      "text/plain": [
       "Invoice             0\n",
       "StockCode           0\n",
       "Description      4382\n",
       "Quantity            0\n",
       "InvoiceDate         0\n",
       "Price               0\n",
       "Customer ID    243007\n",
       "Country             0\n",
       "dtype: int64"
      ]
     },
     "execution_count": 7,
     "metadata": {},
     "output_type": "execute_result"
    }
   ],
   "source": [
    "data.isnull().sum()"
   ]
  },
  {
   "cell_type": "code",
   "execution_count": 8,
   "id": "d3e433e2-e221-49b5-95e3-bc41a9f0a023",
   "metadata": {},
   "outputs": [],
   "source": [
    "# Drop rows with missing customer id's\n",
    "data.dropna(subset=['Customer ID'], inplace = True)"
   ]
  },
  {
   "cell_type": "code",
   "execution_count": 9,
   "id": "4a438283-ff55-4ec5-b68d-1bb73cde3930",
   "metadata": {},
   "outputs": [
    {
     "data": {
      "text/plain": [
       "Invoice        0\n",
       "StockCode      0\n",
       "Description    0\n",
       "Quantity       0\n",
       "InvoiceDate    0\n",
       "Price          0\n",
       "Customer ID    0\n",
       "Country        0\n",
       "dtype: int64"
      ]
     },
     "execution_count": 9,
     "metadata": {},
     "output_type": "execute_result"
    }
   ],
   "source": [
    "data.isnull().sum()"
   ]
  },
  {
   "cell_type": "markdown",
   "id": "45b35e34-f703-4b03-8f68-1a924b663535",
   "metadata": {},
   "source": [
    "# Cleaning and Preprocessing"
   ]
  },
  {
   "cell_type": "code",
   "execution_count": 10,
   "id": "c5610ab3-1904-4cee-95bc-43b58637144a",
   "metadata": {},
   "outputs": [
    {
     "data": {
      "text/html": [
       "<div>\n",
       "<style scoped>\n",
       "    .dataframe tbody tr th:only-of-type {\n",
       "        vertical-align: middle;\n",
       "    }\n",
       "\n",
       "    .dataframe tbody tr th {\n",
       "        vertical-align: top;\n",
       "    }\n",
       "\n",
       "    .dataframe thead th {\n",
       "        text-align: right;\n",
       "    }\n",
       "</style>\n",
       "<table border=\"1\" class=\"dataframe\">\n",
       "  <thead>\n",
       "    <tr style=\"text-align: right;\">\n",
       "      <th></th>\n",
       "      <th>Quantity</th>\n",
       "      <th>InvoiceDate</th>\n",
       "      <th>Price</th>\n",
       "      <th>Customer ID</th>\n",
       "    </tr>\n",
       "  </thead>\n",
       "  <tbody>\n",
       "    <tr>\n",
       "      <th>count</th>\n",
       "      <td>824364.000000</td>\n",
       "      <td>824364</td>\n",
       "      <td>824364.000000</td>\n",
       "      <td>824364.000000</td>\n",
       "    </tr>\n",
       "    <tr>\n",
       "      <th>mean</th>\n",
       "      <td>12.414574</td>\n",
       "      <td>2011-01-01 22:29:28.042054144</td>\n",
       "      <td>3.676800</td>\n",
       "      <td>15324.638504</td>\n",
       "    </tr>\n",
       "    <tr>\n",
       "      <th>min</th>\n",
       "      <td>-80995.000000</td>\n",
       "      <td>2009-12-01 07:45:00</td>\n",
       "      <td>0.000000</td>\n",
       "      <td>12346.000000</td>\n",
       "    </tr>\n",
       "    <tr>\n",
       "      <th>25%</th>\n",
       "      <td>2.000000</td>\n",
       "      <td>2010-07-06 11:58:00</td>\n",
       "      <td>1.250000</td>\n",
       "      <td>13975.000000</td>\n",
       "    </tr>\n",
       "    <tr>\n",
       "      <th>50%</th>\n",
       "      <td>5.000000</td>\n",
       "      <td>2010-12-03 14:26:00</td>\n",
       "      <td>1.950000</td>\n",
       "      <td>15255.000000</td>\n",
       "    </tr>\n",
       "    <tr>\n",
       "      <th>75%</th>\n",
       "      <td>12.000000</td>\n",
       "      <td>2011-07-27 15:14:00</td>\n",
       "      <td>3.750000</td>\n",
       "      <td>16797.000000</td>\n",
       "    </tr>\n",
       "    <tr>\n",
       "      <th>max</th>\n",
       "      <td>80995.000000</td>\n",
       "      <td>2011-12-09 12:50:00</td>\n",
       "      <td>38970.000000</td>\n",
       "      <td>18287.000000</td>\n",
       "    </tr>\n",
       "    <tr>\n",
       "      <th>std</th>\n",
       "      <td>188.976099</td>\n",
       "      <td>NaN</td>\n",
       "      <td>70.241388</td>\n",
       "      <td>1697.464450</td>\n",
       "    </tr>\n",
       "  </tbody>\n",
       "</table>\n",
       "</div>"
      ],
      "text/plain": [
       "            Quantity                    InvoiceDate          Price  \\\n",
       "count  824364.000000                         824364  824364.000000   \n",
       "mean       12.414574  2011-01-01 22:29:28.042054144       3.676800   \n",
       "min    -80995.000000            2009-12-01 07:45:00       0.000000   \n",
       "25%         2.000000            2010-07-06 11:58:00       1.250000   \n",
       "50%         5.000000            2010-12-03 14:26:00       1.950000   \n",
       "75%        12.000000            2011-07-27 15:14:00       3.750000   \n",
       "max     80995.000000            2011-12-09 12:50:00   38970.000000   \n",
       "std       188.976099                            NaN      70.241388   \n",
       "\n",
       "         Customer ID  \n",
       "count  824364.000000  \n",
       "mean    15324.638504  \n",
       "min     12346.000000  \n",
       "25%     13975.000000  \n",
       "50%     15255.000000  \n",
       "75%     16797.000000  \n",
       "max     18287.000000  \n",
       "std      1697.464450  "
      ]
     },
     "execution_count": 10,
     "metadata": {},
     "output_type": "execute_result"
    }
   ],
   "source": [
    "data.describe()"
   ]
  },
  {
   "cell_type": "code",
   "execution_count": 11,
   "id": "854c2970-98f5-4ec4-9f5a-c21b5a717f9b",
   "metadata": {},
   "outputs": [
    {
     "data": {
      "text/html": [
       "<div>\n",
       "<style scoped>\n",
       "    .dataframe tbody tr th:only-of-type {\n",
       "        vertical-align: middle;\n",
       "    }\n",
       "\n",
       "    .dataframe tbody tr th {\n",
       "        vertical-align: top;\n",
       "    }\n",
       "\n",
       "    .dataframe thead th {\n",
       "        text-align: right;\n",
       "    }\n",
       "</style>\n",
       "<table border=\"1\" class=\"dataframe\">\n",
       "  <thead>\n",
       "    <tr style=\"text-align: right;\">\n",
       "      <th></th>\n",
       "      <th>Invoice</th>\n",
       "      <th>StockCode</th>\n",
       "      <th>Description</th>\n",
       "      <th>Quantity</th>\n",
       "      <th>InvoiceDate</th>\n",
       "      <th>Price</th>\n",
       "      <th>Customer ID</th>\n",
       "      <th>Country</th>\n",
       "    </tr>\n",
       "  </thead>\n",
       "  <tbody>\n",
       "    <tr>\n",
       "      <th>0</th>\n",
       "      <td>489434</td>\n",
       "      <td>85048</td>\n",
       "      <td>15CM CHRISTMAS GLASS BALL 20 LIGHTS</td>\n",
       "      <td>12</td>\n",
       "      <td>2009-12-01 07:45:00</td>\n",
       "      <td>6.95</td>\n",
       "      <td>13085.0</td>\n",
       "      <td>United Kingdom</td>\n",
       "    </tr>\n",
       "    <tr>\n",
       "      <th>1</th>\n",
       "      <td>489434</td>\n",
       "      <td>79323P</td>\n",
       "      <td>PINK CHERRY LIGHTS</td>\n",
       "      <td>12</td>\n",
       "      <td>2009-12-01 07:45:00</td>\n",
       "      <td>6.75</td>\n",
       "      <td>13085.0</td>\n",
       "      <td>United Kingdom</td>\n",
       "    </tr>\n",
       "    <tr>\n",
       "      <th>2</th>\n",
       "      <td>489434</td>\n",
       "      <td>79323W</td>\n",
       "      <td>WHITE CHERRY LIGHTS</td>\n",
       "      <td>12</td>\n",
       "      <td>2009-12-01 07:45:00</td>\n",
       "      <td>6.75</td>\n",
       "      <td>13085.0</td>\n",
       "      <td>United Kingdom</td>\n",
       "    </tr>\n",
       "    <tr>\n",
       "      <th>3</th>\n",
       "      <td>489434</td>\n",
       "      <td>22041</td>\n",
       "      <td>RECORD FRAME 7\" SINGLE SIZE</td>\n",
       "      <td>48</td>\n",
       "      <td>2009-12-01 07:45:00</td>\n",
       "      <td>2.10</td>\n",
       "      <td>13085.0</td>\n",
       "      <td>United Kingdom</td>\n",
       "    </tr>\n",
       "    <tr>\n",
       "      <th>4</th>\n",
       "      <td>489434</td>\n",
       "      <td>21232</td>\n",
       "      <td>STRAWBERRY CERAMIC TRINKET BOX</td>\n",
       "      <td>24</td>\n",
       "      <td>2009-12-01 07:45:00</td>\n",
       "      <td>1.25</td>\n",
       "      <td>13085.0</td>\n",
       "      <td>United Kingdom</td>\n",
       "    </tr>\n",
       "  </tbody>\n",
       "</table>\n",
       "</div>"
      ],
      "text/plain": [
       "  Invoice StockCode                          Description  Quantity  \\\n",
       "0  489434     85048  15CM CHRISTMAS GLASS BALL 20 LIGHTS        12   \n",
       "1  489434    79323P                   PINK CHERRY LIGHTS        12   \n",
       "2  489434    79323W                  WHITE CHERRY LIGHTS        12   \n",
       "3  489434     22041         RECORD FRAME 7\" SINGLE SIZE         48   \n",
       "4  489434     21232       STRAWBERRY CERAMIC TRINKET BOX        24   \n",
       "\n",
       "          InvoiceDate  Price  Customer ID         Country  \n",
       "0 2009-12-01 07:45:00   6.95      13085.0  United Kingdom  \n",
       "1 2009-12-01 07:45:00   6.75      13085.0  United Kingdom  \n",
       "2 2009-12-01 07:45:00   6.75      13085.0  United Kingdom  \n",
       "3 2009-12-01 07:45:00   2.10      13085.0  United Kingdom  \n",
       "4 2009-12-01 07:45:00   1.25      13085.0  United Kingdom  "
      ]
     },
     "execution_count": 11,
     "metadata": {},
     "output_type": "execute_result"
    }
   ],
   "source": [
    "# convert InvoiceDate to pandas datetime format\n",
    "data['InvoiceDate'] = pd.to_datetime(data['InvoiceDate'])\n",
    "data.head()"
   ]
  },
  {
   "cell_type": "code",
   "execution_count": 12,
   "id": "4116a153-d9bb-4aa6-905b-25d3bbef81dd",
   "metadata": {},
   "outputs": [],
   "source": [
    "# Discard rows with zero and negative quantity values\n",
    "data = data[data['Quantity'] > 0].copy()"
   ]
  },
  {
   "cell_type": "code",
   "execution_count": 13,
   "id": "6ba44eab-95e0-499a-a3f8-d4454052a32c",
   "metadata": {},
   "outputs": [
    {
     "data": {
      "text/html": [
       "<div>\n",
       "<style scoped>\n",
       "    .dataframe tbody tr th:only-of-type {\n",
       "        vertical-align: middle;\n",
       "    }\n",
       "\n",
       "    .dataframe tbody tr th {\n",
       "        vertical-align: top;\n",
       "    }\n",
       "\n",
       "    .dataframe thead th {\n",
       "        text-align: right;\n",
       "    }\n",
       "</style>\n",
       "<table border=\"1\" class=\"dataframe\">\n",
       "  <thead>\n",
       "    <tr style=\"text-align: right;\">\n",
       "      <th></th>\n",
       "      <th>Invoice</th>\n",
       "      <th>StockCode</th>\n",
       "      <th>Description</th>\n",
       "      <th>Quantity</th>\n",
       "      <th>InvoiceDate</th>\n",
       "      <th>Price</th>\n",
       "      <th>Customer ID</th>\n",
       "      <th>Country</th>\n",
       "      <th>TotalPrice</th>\n",
       "    </tr>\n",
       "  </thead>\n",
       "  <tbody>\n",
       "    <tr>\n",
       "      <th>0</th>\n",
       "      <td>489434</td>\n",
       "      <td>85048</td>\n",
       "      <td>15CM CHRISTMAS GLASS BALL 20 LIGHTS</td>\n",
       "      <td>12</td>\n",
       "      <td>2009-12-01 07:45:00</td>\n",
       "      <td>6.95</td>\n",
       "      <td>13085.0</td>\n",
       "      <td>United Kingdom</td>\n",
       "      <td>83.4</td>\n",
       "    </tr>\n",
       "    <tr>\n",
       "      <th>1</th>\n",
       "      <td>489434</td>\n",
       "      <td>79323P</td>\n",
       "      <td>PINK CHERRY LIGHTS</td>\n",
       "      <td>12</td>\n",
       "      <td>2009-12-01 07:45:00</td>\n",
       "      <td>6.75</td>\n",
       "      <td>13085.0</td>\n",
       "      <td>United Kingdom</td>\n",
       "      <td>81.0</td>\n",
       "    </tr>\n",
       "    <tr>\n",
       "      <th>2</th>\n",
       "      <td>489434</td>\n",
       "      <td>79323W</td>\n",
       "      <td>WHITE CHERRY LIGHTS</td>\n",
       "      <td>12</td>\n",
       "      <td>2009-12-01 07:45:00</td>\n",
       "      <td>6.75</td>\n",
       "      <td>13085.0</td>\n",
       "      <td>United Kingdom</td>\n",
       "      <td>81.0</td>\n",
       "    </tr>\n",
       "    <tr>\n",
       "      <th>3</th>\n",
       "      <td>489434</td>\n",
       "      <td>22041</td>\n",
       "      <td>RECORD FRAME 7\" SINGLE SIZE</td>\n",
       "      <td>48</td>\n",
       "      <td>2009-12-01 07:45:00</td>\n",
       "      <td>2.10</td>\n",
       "      <td>13085.0</td>\n",
       "      <td>United Kingdom</td>\n",
       "      <td>100.8</td>\n",
       "    </tr>\n",
       "    <tr>\n",
       "      <th>4</th>\n",
       "      <td>489434</td>\n",
       "      <td>21232</td>\n",
       "      <td>STRAWBERRY CERAMIC TRINKET BOX</td>\n",
       "      <td>24</td>\n",
       "      <td>2009-12-01 07:45:00</td>\n",
       "      <td>1.25</td>\n",
       "      <td>13085.0</td>\n",
       "      <td>United Kingdom</td>\n",
       "      <td>30.0</td>\n",
       "    </tr>\n",
       "  </tbody>\n",
       "</table>\n",
       "</div>"
      ],
      "text/plain": [
       "  Invoice StockCode                          Description  Quantity  \\\n",
       "0  489434     85048  15CM CHRISTMAS GLASS BALL 20 LIGHTS        12   \n",
       "1  489434    79323P                   PINK CHERRY LIGHTS        12   \n",
       "2  489434    79323W                  WHITE CHERRY LIGHTS        12   \n",
       "3  489434     22041         RECORD FRAME 7\" SINGLE SIZE         48   \n",
       "4  489434     21232       STRAWBERRY CERAMIC TRINKET BOX        24   \n",
       "\n",
       "          InvoiceDate  Price  Customer ID         Country  TotalPrice  \n",
       "0 2009-12-01 07:45:00   6.95      13085.0  United Kingdom        83.4  \n",
       "1 2009-12-01 07:45:00   6.75      13085.0  United Kingdom        81.0  \n",
       "2 2009-12-01 07:45:00   6.75      13085.0  United Kingdom        81.0  \n",
       "3 2009-12-01 07:45:00   2.10      13085.0  United Kingdom       100.8  \n",
       "4 2009-12-01 07:45:00   1.25      13085.0  United Kingdom        30.0  "
      ]
     },
     "execution_count": 13,
     "metadata": {},
     "output_type": "execute_result"
    }
   ],
   "source": [
    "# New column TotalPrice, qty * unit price\n",
    "data['TotalPrice'] = data['Quantity'] * data['Price']\n",
    "data.head()"
   ]
  },
  {
   "cell_type": "code",
   "execution_count": 14,
   "id": "63ce22f9-5f52-4e78-8d94-498dc1185cc0",
   "metadata": {},
   "outputs": [
    {
     "data": {
      "text/html": [
       "<div>\n",
       "<style scoped>\n",
       "    .dataframe tbody tr th:only-of-type {\n",
       "        vertical-align: middle;\n",
       "    }\n",
       "\n",
       "    .dataframe tbody tr th {\n",
       "        vertical-align: top;\n",
       "    }\n",
       "\n",
       "    .dataframe thead th {\n",
       "        text-align: right;\n",
       "    }\n",
       "</style>\n",
       "<table border=\"1\" class=\"dataframe\">\n",
       "  <thead>\n",
       "    <tr style=\"text-align: right;\">\n",
       "      <th></th>\n",
       "      <th>Quantity</th>\n",
       "      <th>InvoiceDate</th>\n",
       "      <th>Price</th>\n",
       "      <th>Customer ID</th>\n",
       "      <th>TotalPrice</th>\n",
       "    </tr>\n",
       "  </thead>\n",
       "  <tbody>\n",
       "    <tr>\n",
       "      <th>count</th>\n",
       "      <td>805620.000000</td>\n",
       "      <td>805620</td>\n",
       "      <td>805620.000000</td>\n",
       "      <td>805620.000000</td>\n",
       "      <td>805620.000000</td>\n",
       "    </tr>\n",
       "    <tr>\n",
       "      <th>mean</th>\n",
       "      <td>13.307665</td>\n",
       "      <td>2011-01-02 10:26:35.704326144</td>\n",
       "      <td>3.206279</td>\n",
       "      <td>15331.856250</td>\n",
       "      <td>22.024564</td>\n",
       "    </tr>\n",
       "    <tr>\n",
       "      <th>min</th>\n",
       "      <td>1.000000</td>\n",
       "      <td>2009-12-01 07:45:00</td>\n",
       "      <td>0.000000</td>\n",
       "      <td>12346.000000</td>\n",
       "      <td>0.000000</td>\n",
       "    </tr>\n",
       "    <tr>\n",
       "      <th>25%</th>\n",
       "      <td>2.000000</td>\n",
       "      <td>2010-07-07 12:08:00</td>\n",
       "      <td>1.250000</td>\n",
       "      <td>13982.000000</td>\n",
       "      <td>4.950000</td>\n",
       "    </tr>\n",
       "    <tr>\n",
       "      <th>50%</th>\n",
       "      <td>5.000000</td>\n",
       "      <td>2010-12-03 15:10:00</td>\n",
       "      <td>1.950000</td>\n",
       "      <td>15271.000000</td>\n",
       "      <td>11.850000</td>\n",
       "    </tr>\n",
       "    <tr>\n",
       "      <th>75%</th>\n",
       "      <td>12.000000</td>\n",
       "      <td>2011-07-28 13:28:00</td>\n",
       "      <td>3.750000</td>\n",
       "      <td>16805.000000</td>\n",
       "      <td>19.500000</td>\n",
       "    </tr>\n",
       "    <tr>\n",
       "      <th>max</th>\n",
       "      <td>80995.000000</td>\n",
       "      <td>2011-12-09 12:50:00</td>\n",
       "      <td>10953.500000</td>\n",
       "      <td>18287.000000</td>\n",
       "      <td>168469.600000</td>\n",
       "    </tr>\n",
       "    <tr>\n",
       "      <th>std</th>\n",
       "      <td>144.306739</td>\n",
       "      <td>NaN</td>\n",
       "      <td>29.197901</td>\n",
       "      <td>1696.768395</td>\n",
       "      <td>224.032150</td>\n",
       "    </tr>\n",
       "  </tbody>\n",
       "</table>\n",
       "</div>"
      ],
      "text/plain": [
       "            Quantity                    InvoiceDate          Price  \\\n",
       "count  805620.000000                         805620  805620.000000   \n",
       "mean       13.307665  2011-01-02 10:26:35.704326144       3.206279   \n",
       "min         1.000000            2009-12-01 07:45:00       0.000000   \n",
       "25%         2.000000            2010-07-07 12:08:00       1.250000   \n",
       "50%         5.000000            2010-12-03 15:10:00       1.950000   \n",
       "75%        12.000000            2011-07-28 13:28:00       3.750000   \n",
       "max     80995.000000            2011-12-09 12:50:00   10953.500000   \n",
       "std       144.306739                            NaN      29.197901   \n",
       "\n",
       "         Customer ID     TotalPrice  \n",
       "count  805620.000000  805620.000000  \n",
       "mean    15331.856250      22.024564  \n",
       "min     12346.000000       0.000000  \n",
       "25%     13982.000000       4.950000  \n",
       "50%     15271.000000      11.850000  \n",
       "75%     16805.000000      19.500000  \n",
       "max     18287.000000  168469.600000  \n",
       "std      1696.768395     224.032150  "
      ]
     },
     "execution_count": 14,
     "metadata": {},
     "output_type": "execute_result"
    }
   ],
   "source": [
    "data.describe()"
   ]
  },
  {
   "cell_type": "markdown",
   "id": "bfd665d5-10d4-4b6b-9efa-82431330a216",
   "metadata": {},
   "source": [
    "# Feature Engineering"
   ]
  },
  {
   "cell_type": "code",
   "execution_count": 15,
   "id": "8ba80487-0e61-4f8e-b5b7-2009e15250b9",
   "metadata": {},
   "outputs": [],
   "source": [
    "customer_df = data.groupby('Customer ID').agg({\n",
    "    'Invoice': 'nunique',  # purchase frequency\n",
    "    'InvoiceDate': ['min', 'max'],  # time span\n",
    "    'TotalPrice': 'sum',  # total revenue\n",
    "    'Country': 'first'\n",
    "})"
   ]
  },
  {
   "cell_type": "code",
   "execution_count": 16,
   "id": "57a04a72-cce4-44d9-b098-dadf3380fb5b",
   "metadata": {},
   "outputs": [],
   "source": [
    "# Flatten MultiIndex columns\n",
    "customer_df.columns = ['Purchases', 'FirstPurchase', 'LastPurchase', 'TotalSpent', 'Country']\n",
    "customer_df['CustomerAgeDays'] = (customer_df['LastPurchase'] - customer_df['FirstPurchase']).dt.days + 1\n",
    "customer_df['AvgSpentPerPurchase'] = customer_df['TotalSpent'] / customer_df['Purchases']"
   ]
  },
  {
   "cell_type": "code",
   "execution_count": 17,
   "id": "e34c4989-e855-49e8-822d-7a9f379000d1",
   "metadata": {},
   "outputs": [
    {
     "data": {
      "text/html": [
       "<div>\n",
       "<style scoped>\n",
       "    .dataframe tbody tr th:only-of-type {\n",
       "        vertical-align: middle;\n",
       "    }\n",
       "\n",
       "    .dataframe tbody tr th {\n",
       "        vertical-align: top;\n",
       "    }\n",
       "\n",
       "    .dataframe thead th {\n",
       "        text-align: right;\n",
       "    }\n",
       "</style>\n",
       "<table border=\"1\" class=\"dataframe\">\n",
       "  <thead>\n",
       "    <tr style=\"text-align: right;\">\n",
       "      <th></th>\n",
       "      <th>Purchases</th>\n",
       "      <th>FirstPurchase</th>\n",
       "      <th>LastPurchase</th>\n",
       "      <th>TotalSpent</th>\n",
       "      <th>Country</th>\n",
       "      <th>CustomerAgeDays</th>\n",
       "      <th>AvgSpentPerPurchase</th>\n",
       "    </tr>\n",
       "    <tr>\n",
       "      <th>Customer ID</th>\n",
       "      <th></th>\n",
       "      <th></th>\n",
       "      <th></th>\n",
       "      <th></th>\n",
       "      <th></th>\n",
       "      <th></th>\n",
       "      <th></th>\n",
       "    </tr>\n",
       "  </thead>\n",
       "  <tbody>\n",
       "    <tr>\n",
       "      <th>12346.0</th>\n",
       "      <td>12</td>\n",
       "      <td>2009-12-14 08:34:00</td>\n",
       "      <td>2011-01-18 10:01:00</td>\n",
       "      <td>77556.46</td>\n",
       "      <td>United Kingdom</td>\n",
       "      <td>401</td>\n",
       "      <td>6463.038333</td>\n",
       "    </tr>\n",
       "    <tr>\n",
       "      <th>12347.0</th>\n",
       "      <td>8</td>\n",
       "      <td>2010-10-31 14:20:00</td>\n",
       "      <td>2011-12-07 15:52:00</td>\n",
       "      <td>5633.32</td>\n",
       "      <td>Iceland</td>\n",
       "      <td>403</td>\n",
       "      <td>704.165000</td>\n",
       "    </tr>\n",
       "    <tr>\n",
       "      <th>12348.0</th>\n",
       "      <td>5</td>\n",
       "      <td>2010-09-27 14:59:00</td>\n",
       "      <td>2011-09-25 13:13:00</td>\n",
       "      <td>2019.40</td>\n",
       "      <td>Finland</td>\n",
       "      <td>363</td>\n",
       "      <td>403.880000</td>\n",
       "    </tr>\n",
       "    <tr>\n",
       "      <th>12349.0</th>\n",
       "      <td>4</td>\n",
       "      <td>2010-04-29 13:20:00</td>\n",
       "      <td>2011-11-21 09:51:00</td>\n",
       "      <td>4428.69</td>\n",
       "      <td>Italy</td>\n",
       "      <td>571</td>\n",
       "      <td>1107.172500</td>\n",
       "    </tr>\n",
       "    <tr>\n",
       "      <th>12350.0</th>\n",
       "      <td>1</td>\n",
       "      <td>2011-02-02 16:01:00</td>\n",
       "      <td>2011-02-02 16:01:00</td>\n",
       "      <td>334.40</td>\n",
       "      <td>Norway</td>\n",
       "      <td>1</td>\n",
       "      <td>334.400000</td>\n",
       "    </tr>\n",
       "  </tbody>\n",
       "</table>\n",
       "</div>"
      ],
      "text/plain": [
       "             Purchases       FirstPurchase        LastPurchase  TotalSpent  \\\n",
       "Customer ID                                                                  \n",
       "12346.0             12 2009-12-14 08:34:00 2011-01-18 10:01:00    77556.46   \n",
       "12347.0              8 2010-10-31 14:20:00 2011-12-07 15:52:00     5633.32   \n",
       "12348.0              5 2010-09-27 14:59:00 2011-09-25 13:13:00     2019.40   \n",
       "12349.0              4 2010-04-29 13:20:00 2011-11-21 09:51:00     4428.69   \n",
       "12350.0              1 2011-02-02 16:01:00 2011-02-02 16:01:00      334.40   \n",
       "\n",
       "                    Country  CustomerAgeDays  AvgSpentPerPurchase  \n",
       "Customer ID                                                        \n",
       "12346.0      United Kingdom              401          6463.038333  \n",
       "12347.0             Iceland              403           704.165000  \n",
       "12348.0             Finland              363           403.880000  \n",
       "12349.0               Italy              571          1107.172500  \n",
       "12350.0              Norway                1           334.400000  "
      ]
     },
     "execution_count": 17,
     "metadata": {},
     "output_type": "execute_result"
    }
   ],
   "source": [
    "customer_df.head()"
   ]
  },
  {
   "cell_type": "code",
   "execution_count": 18,
   "id": "e4b140f3-3beb-41be-9e1e-498e80eee1c5",
   "metadata": {},
   "outputs": [
    {
     "data": {
      "text/html": [
       "<div>\n",
       "<style scoped>\n",
       "    .dataframe tbody tr th:only-of-type {\n",
       "        vertical-align: middle;\n",
       "    }\n",
       "\n",
       "    .dataframe tbody tr th {\n",
       "        vertical-align: top;\n",
       "    }\n",
       "\n",
       "    .dataframe thead th {\n",
       "        text-align: right;\n",
       "    }\n",
       "</style>\n",
       "<table border=\"1\" class=\"dataframe\">\n",
       "  <thead>\n",
       "    <tr style=\"text-align: right;\">\n",
       "      <th></th>\n",
       "      <th>Purchases</th>\n",
       "      <th>FirstPurchase</th>\n",
       "      <th>LastPurchase</th>\n",
       "      <th>TotalSpent</th>\n",
       "      <th>CustomerAgeDays</th>\n",
       "      <th>AvgSpentPerPurchase</th>\n",
       "    </tr>\n",
       "  </thead>\n",
       "  <tbody>\n",
       "    <tr>\n",
       "      <th>count</th>\n",
       "      <td>5881.000000</td>\n",
       "      <td>5881</td>\n",
       "      <td>5881</td>\n",
       "      <td>5881.000000</td>\n",
       "      <td>5881.000000</td>\n",
       "      <td>5881.000000</td>\n",
       "    </tr>\n",
       "    <tr>\n",
       "      <th>mean</th>\n",
       "      <td>6.287196</td>\n",
       "      <td>2010-08-22 07:16:55.031457280</td>\n",
       "      <td>2011-05-22 13:18:31.749702400</td>\n",
       "      <td>3017.076888</td>\n",
       "      <td>273.883183</td>\n",
       "      <td>391.518233</td>\n",
       "    </tr>\n",
       "    <tr>\n",
       "      <th>min</th>\n",
       "      <td>1.000000</td>\n",
       "      <td>2009-12-01 07:45:00</td>\n",
       "      <td>2009-12-01 09:55:00</td>\n",
       "      <td>0.000000</td>\n",
       "      <td>1.000000</td>\n",
       "      <td>0.000000</td>\n",
       "    </tr>\n",
       "    <tr>\n",
       "      <th>25%</th>\n",
       "      <td>1.000000</td>\n",
       "      <td>2010-02-09 14:17:00</td>\n",
       "      <td>2010-11-25 10:11:00</td>\n",
       "      <td>347.800000</td>\n",
       "      <td>1.000000</td>\n",
       "      <td>181.390000</td>\n",
       "    </tr>\n",
       "    <tr>\n",
       "      <th>50%</th>\n",
       "      <td>3.000000</td>\n",
       "      <td>2010-06-27 13:29:00</td>\n",
       "      <td>2011-09-05 11:52:00</td>\n",
       "      <td>897.620000</td>\n",
       "      <td>221.000000</td>\n",
       "      <td>284.984000</td>\n",
       "    </tr>\n",
       "    <tr>\n",
       "      <th>75%</th>\n",
       "      <td>7.000000</td>\n",
       "      <td>2011-01-30 14:36:00</td>\n",
       "      <td>2011-11-14 11:33:00</td>\n",
       "      <td>2304.180000</td>\n",
       "      <td>512.000000</td>\n",
       "      <td>420.500000</td>\n",
       "    </tr>\n",
       "    <tr>\n",
       "      <th>max</th>\n",
       "      <td>398.000000</td>\n",
       "      <td>2011-12-09 12:16:00</td>\n",
       "      <td>2011-12-09 12:50:00</td>\n",
       "      <td>608821.650000</td>\n",
       "      <td>739.000000</td>\n",
       "      <td>84236.250000</td>\n",
       "    </tr>\n",
       "    <tr>\n",
       "      <th>std</th>\n",
       "      <td>13.012879</td>\n",
       "      <td>NaN</td>\n",
       "      <td>NaN</td>\n",
       "      <td>14734.128619</td>\n",
       "      <td>258.815005</td>\n",
       "      <td>1214.783901</td>\n",
       "    </tr>\n",
       "  </tbody>\n",
       "</table>\n",
       "</div>"
      ],
      "text/plain": [
       "         Purchases                  FirstPurchase  \\\n",
       "count  5881.000000                           5881   \n",
       "mean      6.287196  2010-08-22 07:16:55.031457280   \n",
       "min       1.000000            2009-12-01 07:45:00   \n",
       "25%       1.000000            2010-02-09 14:17:00   \n",
       "50%       3.000000            2010-06-27 13:29:00   \n",
       "75%       7.000000            2011-01-30 14:36:00   \n",
       "max     398.000000            2011-12-09 12:16:00   \n",
       "std      13.012879                            NaN   \n",
       "\n",
       "                        LastPurchase     TotalSpent  CustomerAgeDays  \\\n",
       "count                           5881    5881.000000      5881.000000   \n",
       "mean   2011-05-22 13:18:31.749702400    3017.076888       273.883183   \n",
       "min              2009-12-01 09:55:00       0.000000         1.000000   \n",
       "25%              2010-11-25 10:11:00     347.800000         1.000000   \n",
       "50%              2011-09-05 11:52:00     897.620000       221.000000   \n",
       "75%              2011-11-14 11:33:00    2304.180000       512.000000   \n",
       "max              2011-12-09 12:50:00  608821.650000       739.000000   \n",
       "std                              NaN   14734.128619       258.815005   \n",
       "\n",
       "       AvgSpentPerPurchase  \n",
       "count          5881.000000  \n",
       "mean            391.518233  \n",
       "min               0.000000  \n",
       "25%             181.390000  \n",
       "50%             284.984000  \n",
       "75%             420.500000  \n",
       "max           84236.250000  \n",
       "std            1214.783901  "
      ]
     },
     "execution_count": 18,
     "metadata": {},
     "output_type": "execute_result"
    }
   ],
   "source": [
    "customer_df.describe()"
   ]
  },
  {
   "cell_type": "markdown",
   "id": "20dff485-517d-46f8-be68-244186cb400c",
   "metadata": {},
   "source": [
    "## EDA on customer data"
   ]
  },
  {
   "cell_type": "markdown",
   "id": "c5a61fd0-ae23-4616-b0c3-52249254329b",
   "metadata": {},
   "source": [
    "### Total Spent Distribution"
   ]
  },
  {
   "cell_type": "code",
   "execution_count": 19,
   "id": "7f344cc0-678b-4d6d-a2eb-5dc1d17b4369",
   "metadata": {},
   "outputs": [
    {
     "data": {
      "image/png": "[encoded data removed]",
      "text/plain": [
       "<Figure size 640x480 with 1 Axes>"
      ]
     },
     "metadata": {},
     "output_type": "display_data"
    }
   ],
   "source": [
    "# Cap extremes\n",
    "cap = customer_df['TotalSpent'].quantile(0.95)\n",
    "\n",
    "sns.histplot(customer_df[customer_df['TotalSpent'] < cap]['TotalSpent'], bins=50)\n",
    "plt.title(\"Total Spend per Customer (Below 95th Percentile)\")\n",
    "plt.xlabel(\"Total Spent\")\n",
    "plt.ylabel(\"Number of Customers\")\n",
    "plt.show()"
   ]
  },
  {
   "cell_type": "markdown",
   "id": "c5b47caf-39ce-46d8-bc3c-5685ab803212",
   "metadata": {},
   "source": [
    "### Number of Purchases Distribution"
   ]
  },
  {
   "cell_type": "code",
   "execution_count": 20,
   "id": "c0da6568-f6f8-4c64-bf24-c2f89929defa",
   "metadata": {},
   "outputs": [
    {
     "data": {
      "image/png": "[encoded data removed]",
      "text/plain": [
       "<Figure size 640x480 with 1 Axes>"
      ]
     },
     "metadata": {},
     "output_type": "display_data"
    }
   ],
   "source": [
    "cap = customer_df['Purchases'].quantile(0.95)\n",
    "\n",
    "sns.histplot(customer_df[customer_df['Purchases'] < cap]['Purchases'], bins=30)\n",
    "plt.title(\"Number of Purchases per Customer (Below 95th Percentile)\")\n",
    "plt.xlabel(\"Purchases\")\n",
    "plt.ylabel(\"Number of Customers\")\n",
    "plt.show()"
   ]
  },
  {
   "cell_type": "markdown",
   "id": "d44f1f0a-bdcb-4599-8ebf-7f5183b00a7a",
   "metadata": {},
   "source": [
    "### Customer Lifespan (Days Active)"
   ]
  },
  {
   "cell_type": "code",
   "execution_count": 21,
   "id": "0a9ea908-e440-4bfa-8b69-48a10580667c",
   "metadata": {},
   "outputs": [
    {
     "data": {
      "image/png": "[encoded data removed]",
      "text/plain": [
       "<Figure size 640x480 with 1 Axes>"
      ]
     },
     "metadata": {},
     "output_type": "display_data"
    }
   ],
   "source": [
    "sns.histplot(customer_df['CustomerAgeDays'], bins=50)\n",
    "plt.title(\"Customer Activity Duration\")\n",
    "plt.xlabel(\"Number of Days\")\n",
    "plt.ylabel(\"Number of Customers\")\n",
    "plt.show()"
   ]
  },
  {
   "cell_type": "markdown",
   "id": "bfe0254b-211b-45c1-b351-1212d52038c4",
   "metadata": {},
   "source": [
    "### Average Spend per Purchase Distribution"
   ]
  },
  {
   "cell_type": "code",
   "execution_count": 22,
   "id": "729f0770-7757-42ff-a39a-bfd8006d4ed9",
   "metadata": {},
   "outputs": [
    {
     "data": {
      "image/png": "[encoded data removed]",
      "text/plain": [
       "<Figure size 640x480 with 1 Axes>"
      ]
     },
     "metadata": {},
     "output_type": "display_data"
    }
   ],
   "source": [
    "cap = customer_df['AvgSpentPerPurchase'].quantile(0.95)\n",
    "\n",
    "sns.histplot(customer_df[customer_df['AvgSpentPerPurchase'] < cap]['AvgSpentPerPurchase'], bins=50)\n",
    "plt.title(\"Average Spend per Purchase\")\n",
    "plt.xlabel(\"Amount\")\n",
    "plt.ylabel(\"Number of Customers\")\n",
    "plt.show()"
   ]
  },
  {
   "cell_type": "markdown",
   "id": "5104f3e2-5d77-4aa2-b650-8934b649246d",
   "metadata": {},
   "source": [
    "### Top Countries by Total Spend"
   ]
  },
  {
   "cell_type": "code",
   "execution_count": 23,
   "id": "cf10898a-4f57-4296-a582-65f9a42de538",
   "metadata": {},
   "outputs": [
    {
     "data": {
      "image/png": "[encoded data removed]",
      "text/plain": [
       "<Figure size 640x480 with 1 Axes>"
      ]
     },
     "metadata": {},
     "output_type": "display_data"
    }
   ],
   "source": [
    "top_countries = customer_df.groupby('Country')['TotalSpent'].sum().sort_values(ascending=False).head(10)\n",
    "top_countries_million = top_countries / 1_000_000  # Convert to millions\n",
    "\n",
    "top_countries_million.plot(kind='bar')\n",
    "plt.title(\"Top 10 Countries by Total Spend (in Millions)\")\n",
    "plt.xlabel(\"Country\")\n",
    "plt.ylabel(\"Total Spent (Millions)\")\n",
    "plt.show()"
   ]
  },
  {
   "cell_type": "markdown",
   "id": "380a905c-67d7-4859-9367-8c239061f87e",
   "metadata": {},
   "source": [
    "### Purchases vs Total Spent"
   ]
  },
  {
   "cell_type": "code",
   "execution_count": 24,
   "id": "6ff80c66-0a52-4ca1-8c9a-6423997a2cf9",
   "metadata": {},
   "outputs": [
    {
     "data": {
      "image/png": "[encoded data removed]",
      "text/plain": [
       "<Figure size 640x480 with 1 Axes>"
      ]
     },
     "metadata": {},
     "output_type": "display_data"
    }
   ],
   "source": [
    "sns.scatterplot(x='Purchases', y='TotalSpent', data=customer_df)\n",
    "plt.title(\"Purchases vs Total Spent\")\n",
    "plt.xlabel(\"Purchases\")\n",
    "plt.ylabel(\"Total Spent\")\n",
    "plt.show()"
   ]
  },
  {
   "cell_type": "markdown",
   "id": "07e8f83d-5160-4f65-991f-c99e27c1bc2b",
   "metadata": {},
   "source": [
    "# Creating the prediction target"
   ]
  },
  {
   "cell_type": "markdown",
   "id": "61fd6fa8-ae20-4033-ac25-f3ef7de42026",
   "metadata": {},
   "source": [
    "## Creating training and future data"
   ]
  },
  {
   "cell_type": "code",
   "execution_count": 25,
   "id": "ac9bec3b-0ed3-44d4-899d-d3dcf07111bd",
   "metadata": {},
   "outputs": [],
   "source": [
    "# cutoff data is 9 months from the start of data\n",
    "cutoff_date = data['InvoiceDate'].min() + pd.DateOffset(months=9)"
   ]
  },
  {
   "cell_type": "code",
   "execution_count": 26,
   "id": "4eb0d649-830f-4790-b4ed-c3b5f59a8640",
   "metadata": {},
   "outputs": [],
   "source": [
    "train_data = data[data['InvoiceDate'] <= cutoff_date] # till cutoff\n",
    "future_data = data[data['InvoiceDate'] > cutoff_date] # after cutoff"
   ]
  },
  {
   "cell_type": "markdown",
   "id": "0222d044-dd2d-4041-8aca-5a1663d25733",
   "metadata": {},
   "source": [
    "### Aggregating per customer"
   ]
  },
  {
   "cell_type": "code",
   "execution_count": 27,
   "id": "e34bf4bb-6ce9-4e95-9ed4-d6362f82c06f",
   "metadata": {},
   "outputs": [],
   "source": [
    "train_agg = train_data.groupby('Customer ID').agg({\n",
    "    'Invoice': 'nunique',\n",
    "    'TotalPrice': 'sum',\n",
    "    'InvoiceDate': ['min', 'max']\n",
    "})\n",
    "\n",
    "train_agg.columns = ['Purchases', 'TotalSpent', 'FirstPurchase', 'LastPurchase']\n",
    "train_agg['CustomerAgeDays'] = (train_agg['LastPurchase'] - train_agg['FirstPurchase']).dt.days + 1\n",
    "train_agg['AvgSpentPerPurchase'] = train_agg['TotalSpent'] / train_agg['Purchases']"
   ]
  },
  {
   "cell_type": "code",
   "execution_count": 28,
   "id": "0c3676c3-42ea-401e-8c9d-0790f323684a",
   "metadata": {},
   "outputs": [],
   "source": [
    "future_agg = future_data.groupby('Customer ID')['TotalPrice'].sum().reset_index()\n",
    "future_agg.columns = ['Customer ID', 'FutureSpent']"
   ]
  },
  {
   "cell_type": "markdown",
   "id": "bbd81a4d-123e-4b92-938a-134e4273e17d",
   "metadata": {},
   "source": [
    "### Merging train features with future labels"
   ]
  },
  {
   "cell_type": "code",
   "execution_count": 29,
   "id": "0c28d0a7-0766-4e61-84a4-52d4f1b1c016",
   "metadata": {},
   "outputs": [],
   "source": [
    "train_final = train_agg.reset_index().merge(future_agg, on='Customer ID', how='inner')"
   ]
  },
  {
   "cell_type": "code",
   "execution_count": 30,
   "id": "f400c56e-c506-4ab0-a714-acf8e21d23f1",
   "metadata": {},
   "outputs": [
    {
     "data": {
      "text/html": [
       "<div>\n",
       "<style scoped>\n",
       "    .dataframe tbody tr th:only-of-type {\n",
       "        vertical-align: middle;\n",
       "    }\n",
       "\n",
       "    .dataframe tbody tr th {\n",
       "        vertical-align: top;\n",
       "    }\n",
       "\n",
       "    .dataframe thead th {\n",
       "        text-align: right;\n",
       "    }\n",
       "</style>\n",
       "<table border=\"1\" class=\"dataframe\">\n",
       "  <thead>\n",
       "    <tr style=\"text-align: right;\">\n",
       "      <th></th>\n",
       "      <th>Customer ID</th>\n",
       "      <th>Purchases</th>\n",
       "      <th>TotalSpent</th>\n",
       "      <th>FirstPurchase</th>\n",
       "      <th>LastPurchase</th>\n",
       "      <th>CustomerAgeDays</th>\n",
       "      <th>AvgSpentPerPurchase</th>\n",
       "      <th>FutureSpent</th>\n",
       "    </tr>\n",
       "  </thead>\n",
       "  <tbody>\n",
       "    <tr>\n",
       "      <th>0</th>\n",
       "      <td>12346.0</td>\n",
       "      <td>11</td>\n",
       "      <td>372.86</td>\n",
       "      <td>2009-12-14 08:34:00</td>\n",
       "      <td>2010-06-28 13:53:00</td>\n",
       "      <td>197</td>\n",
       "      <td>33.896364</td>\n",
       "      <td>77183.60</td>\n",
       "    </tr>\n",
       "    <tr>\n",
       "      <th>1</th>\n",
       "      <td>12349.0</td>\n",
       "      <td>2</td>\n",
       "      <td>1268.52</td>\n",
       "      <td>2010-04-29 13:20:00</td>\n",
       "      <td>2010-05-18 09:57:00</td>\n",
       "      <td>19</td>\n",
       "      <td>634.260000</td>\n",
       "      <td>3160.17</td>\n",
       "    </tr>\n",
       "    <tr>\n",
       "      <th>2</th>\n",
       "      <td>12355.0</td>\n",
       "      <td>1</td>\n",
       "      <td>488.21</td>\n",
       "      <td>2010-05-21 11:59:00</td>\n",
       "      <td>2010-05-21 11:59:00</td>\n",
       "      <td>1</td>\n",
       "      <td>488.210000</td>\n",
       "      <td>459.40</td>\n",
       "    </tr>\n",
       "    <tr>\n",
       "      <th>3</th>\n",
       "      <td>12358.0</td>\n",
       "      <td>2</td>\n",
       "      <td>1697.93</td>\n",
       "      <td>2009-12-08 07:59:00</td>\n",
       "      <td>2010-06-07 12:28:00</td>\n",
       "      <td>182</td>\n",
       "      <td>848.965000</td>\n",
       "      <td>2189.14</td>\n",
       "    </tr>\n",
       "    <tr>\n",
       "      <th>4</th>\n",
       "      <td>12359.0</td>\n",
       "      <td>5</td>\n",
       "      <td>2012.03</td>\n",
       "      <td>2009-12-05 13:32:00</td>\n",
       "      <td>2010-06-22 10:24:00</td>\n",
       "      <td>199</td>\n",
       "      <td>402.406000</td>\n",
       "      <td>6923.91</td>\n",
       "    </tr>\n",
       "    <tr>\n",
       "      <th>...</th>\n",
       "      <td>...</td>\n",
       "      <td>...</td>\n",
       "      <td>...</td>\n",
       "      <td>...</td>\n",
       "      <td>...</td>\n",
       "      <td>...</td>\n",
       "      <td>...</td>\n",
       "      <td>...</td>\n",
       "    </tr>\n",
       "    <tr>\n",
       "      <th>2502</th>\n",
       "      <td>18276.0</td>\n",
       "      <td>3</td>\n",
       "      <td>683.67</td>\n",
       "      <td>2009-12-10 17:14:00</td>\n",
       "      <td>2010-07-08 09:15:00</td>\n",
       "      <td>210</td>\n",
       "      <td>227.890000</td>\n",
       "      <td>972.85</td>\n",
       "    </tr>\n",
       "    <tr>\n",
       "      <th>2503</th>\n",
       "      <td>18277.0</td>\n",
       "      <td>2</td>\n",
       "      <td>337.14</td>\n",
       "      <td>2010-08-02 10:26:00</td>\n",
       "      <td>2010-08-02 10:27:00</td>\n",
       "      <td>1</td>\n",
       "      <td>168.570000</td>\n",
       "      <td>842.91</td>\n",
       "    </tr>\n",
       "    <tr>\n",
       "      <th>2504</th>\n",
       "      <td>18281.0</td>\n",
       "      <td>1</td>\n",
       "      <td>120.32</td>\n",
       "      <td>2010-05-11 10:49:00</td>\n",
       "      <td>2010-05-11 10:49:00</td>\n",
       "      <td>1</td>\n",
       "      <td>120.320000</td>\n",
       "      <td>80.82</td>\n",
       "    </tr>\n",
       "    <tr>\n",
       "      <th>2505</th>\n",
       "      <td>18283.0</td>\n",
       "      <td>4</td>\n",
       "      <td>446.42</td>\n",
       "      <td>2010-02-19 17:16:00</td>\n",
       "      <td>2010-08-19 13:04:00</td>\n",
       "      <td>181</td>\n",
       "      <td>111.605000</td>\n",
       "      <td>2290.23</td>\n",
       "    </tr>\n",
       "    <tr>\n",
       "      <th>2506</th>\n",
       "      <td>18287.0</td>\n",
       "      <td>1</td>\n",
       "      <td>1071.61</td>\n",
       "      <td>2010-05-17 11:55:00</td>\n",
       "      <td>2010-05-17 11:55:00</td>\n",
       "      <td>1</td>\n",
       "      <td>1071.610000</td>\n",
       "      <td>3111.38</td>\n",
       "    </tr>\n",
       "  </tbody>\n",
       "</table>\n",
       "<p>2507 rows × 8 columns</p>\n",
       "</div>"
      ],
      "text/plain": [
       "      Customer ID  Purchases  TotalSpent       FirstPurchase  \\\n",
       "0         12346.0         11      372.86 2009-12-14 08:34:00   \n",
       "1         12349.0          2     1268.52 2010-04-29 13:20:00   \n",
       "2         12355.0          1      488.21 2010-05-21 11:59:00   \n",
       "3         12358.0          2     1697.93 2009-12-08 07:59:00   \n",
       "4         12359.0          5     2012.03 2009-12-05 13:32:00   \n",
       "...           ...        ...         ...                 ...   \n",
       "2502      18276.0          3      683.67 2009-12-10 17:14:00   \n",
       "2503      18277.0          2      337.14 2010-08-02 10:26:00   \n",
       "2504      18281.0          1      120.32 2010-05-11 10:49:00   \n",
       "2505      18283.0          4      446.42 2010-02-19 17:16:00   \n",
       "2506      18287.0          1     1071.61 2010-05-17 11:55:00   \n",
       "\n",
       "            LastPurchase  CustomerAgeDays  AvgSpentPerPurchase  FutureSpent  \n",
       "0    2010-06-28 13:53:00              197            33.896364     77183.60  \n",
       "1    2010-05-18 09:57:00               19           634.260000      3160.17  \n",
       "2    2010-05-21 11:59:00                1           488.210000       459.40  \n",
       "3    2010-06-07 12:28:00              182           848.965000      2189.14  \n",
       "4    2010-06-22 10:24:00              199           402.406000      6923.91  \n",
       "...                  ...              ...                  ...          ...  \n",
       "2502 2010-07-08 09:15:00              210           227.890000       972.85  \n",
       "2503 2010-08-02 10:27:00                1           168.570000       842.91  \n",
       "2504 2010-05-11 10:49:00                1           120.320000        80.82  \n",
       "2505 2010-08-19 13:04:00              181           111.605000      2290.23  \n",
       "2506 2010-05-17 11:55:00                1          1071.610000      3111.38  \n",
       "\n",
       "[2507 rows x 8 columns]"
      ]
     },
     "execution_count": 30,
     "metadata": {},
     "output_type": "execute_result"
    }
   ],
   "source": [
    "train_final"
   ]
  },
  {
   "cell_type": "markdown",
   "id": "a6625a69-8750-42b2-bcda-ce18e5697c68",
   "metadata": {},
   "source": [
    "# Model training and evaluation"
   ]
  },
  {
   "cell_type": "code",
   "execution_count": 31,
   "id": "b5980614-f677-484d-96c7-673a9ae1ce3e",
   "metadata": {},
   "outputs": [
    {
     "name": "stdout",
     "output_type": "stream",
     "text": [
      "Ridge Regression:\n",
      "RMSE: 6893.64\n",
      "R² Score: 0.4563\n",
      "\n",
      "Lasso Regression:\n",
      "RMSE: 6893.66\n",
      "R² Score: 0.4563\n"
     ]
    }
   ],
   "source": [
    "from sklearn.model_selection import train_test_split\n",
    "from sklearn.linear_model import Ridge, Lasso\n",
    "from sklearn.metrics import root_mean_squared_error, r2_score\n",
    "\n",
    "X = train_final.drop(columns=['Customer ID', 'FutureSpent', 'FirstPurchase', 'LastPurchase'])\n",
    "y = train_final['FutureSpent']  # No log-transform\n",
    "\n",
    "# Train-test split\n",
    "X_train, X_test, y_train, y_test = train_test_split(X, y, test_size=0.2, random_state=42)\n",
    "\n",
    "# Ridge Regression\n",
    "ridge_model = Ridge(alpha=1.0)\n",
    "ridge_model.fit(X_train, y_train)\n",
    "ridge_preds = ridge_model.predict(X_test)\n",
    "ridge_rmse = root_mean_squared_error(y_test, ridge_preds)\n",
    "ridge_r2 = r2_score(y_test, ridge_preds)\n",
    "\n",
    "print(\"Ridge Regression:\")\n",
    "print(f\"RMSE: {ridge_rmse:.2f}\")\n",
    "print(f\"R² Score: {ridge_r2:.4f}\")\n",
    "print()\n",
    "\n",
    "# Lasso Regression\n",
    "lasso_model = Lasso(alpha=1.0)\n",
    "lasso_model.fit(X_train, y_train)\n",
    "lasso_preds = lasso_model.predict(X_test)\n",
    "lasso_rmse = root_mean_squared_error(y_test, lasso_preds)\n",
    "lasso_r2 = r2_score(y_test, lasso_preds)\n",
    "\n",
    "print(\"Lasso Regression:\")\n",
    "print(f\"RMSE: {lasso_rmse:.2f}\")\n",
    "print(f\"R² Score: {lasso_r2:.4f}\")"
   ]
  },
  {
   "cell_type": "code",
   "execution_count": null,
   "id": "5feedee4-9fb3-472e-bbe6-2b758b31f792",
   "metadata": {},
   "outputs": [],
   "source": []
  }
 ],
 "metadata": {
  "kernelspec": {
   "display_name": "Python 3 (ipykernel)",
   "language": "python",
   "name": "python3"
  },
  "language_info": {
   "codemirror_mode": {
    "name": "ipython",
    "version": 3
   },
   "file_extension": ".py",
   "mimetype": "text/x-python",
   "name": "python",
   "nbconvert_exporter": "python",
   "pygments_lexer": "ipython3",
   "version": "3.12.7"
  }
 },
 "nbformat": 4,
 "nbformat_minor": 5
}
